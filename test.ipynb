{
 "cells": [
  {
   "cell_type": "code",
   "execution_count": 4,
   "metadata": {},
   "outputs": [],
   "source": [
    "import numpy as np\n",
    "import tensorflow as tf"
   ]
  },
  {
   "cell_type": "code",
   "execution_count": 7,
   "metadata": {},
   "outputs": [],
   "source": [
    "def preprocess(\n",
    "        state: tf.Tensor,\n",
    "        varsigma: tf.Tensor = tf.constant(0.02, dtype=tf.float32),\n",
    "    ) -> tf.Tensor:\n",
    "        \"\"\"Applies time transformation as in Traeger (2014) and downscales carbon reservoirs from GtCO2 to 1000GtCO2.\n",
    "\n",
    "        Time scaled as: hat(t) = -exp(-varsigma t)\n",
    "\n",
    "        Args:\n",
    "            state (tf.Tensor): Shape [batch, state, state variables]\n",
    "\n",
    "        Returns:\n",
    "            preprocessed states (tf.Tensor): Shape [batch, state, state variables]\n",
    "        \"\"\"\n",
    "        # Time located at index 6, where we select index 6 to, but not including 7.\n",
    "        t = state[..., 6:7]\n",
    "        hat_t = -tf.exp(-varsigma * t) + 1\n",
    "\n",
    "        m = state[..., 1:4]\n",
    "        m_scaled = m/1000\n",
    "\n",
    "        preprocessed_state = tf.concat([\n",
    "            state[..., :1],\n",
    "            m_scaled,\n",
    "            state[..., 4:6],\n",
    "            hat_t\n",
    "        ], axis=-1)\n",
    "\n",
    "        return preprocessed_state\n"
   ]
  },
  {
   "cell_type": "code",
   "execution_count": 12,
   "metadata": {},
   "outputs": [
    {
     "name": "stdout",
     "output_type": "stream",
     "text": [
      "Test passed for preprocess function.\n",
      "tf.Tensor(\n",
      "[[0.1        2.         3.         4.         0.5        0.6\n",
      "  0.01980132]\n",
      " [0.2        5.         6.         7.         1.5        1.6\n",
      "  0.03921056]], shape=(2, 7), dtype=float32)\n"
     ]
    }
   ],
   "source": [
    "def test_preprocess():\n",
    "    # Create a test input tensor\n",
    "    mock_state = tf.constant([\n",
    "        [0.1, 2000.0, 3000.0, 4000.0, 0.5, 0.6, 1.0],  # Sample 1\n",
    "        [0.2, 5000.0, 6000.0, 7000.0, 1.5, 1.6, 2.0],  # Sample 2\n",
    "    ], dtype=tf.float32)\n",
    "    varsigma = tf.constant(0.02, dtype=tf.float32)\n",
    "\n",
    "    # Expected output\n",
    "    expected_m_scaled = mock_state[..., 1:4] / 1000\n",
    "    hat_t = -tf.exp(-varsigma * mock_state[..., 6:7]) + 1\n",
    "    expected_output = tf.concat([\n",
    "        mock_state[..., :1],\n",
    "        expected_m_scaled,\n",
    "        mock_state[..., 4:6],\n",
    "        hat_t\n",
    "    ], axis=-1)\n",
    "\n",
    "    # Run the preprocess function\n",
    "    processed_state = preprocess(mock_state, varsigma)\n",
    "\n",
    "    # Check if the output matches the expected output\n",
    "    np.testing.assert_array_almost_equal(processed_state.numpy(), expected_output.numpy(), decimal=5)\n",
    "    print(\"Test passed for preprocess function.\")\n",
    "    print(processed_state)\n",
    "\n",
    "# Execute the test\n",
    "test_preprocess()"
   ]
  },
  {
   "cell_type": "code",
   "execution_count": null,
   "metadata": {},
   "outputs": [],
   "source": []
  }
 ],
 "metadata": {
  "kernelspec": {
   "display_name": "thesis",
   "language": "python",
   "name": "python3"
  },
  "language_info": {
   "codemirror_mode": {
    "name": "ipython",
    "version": 3
   },
   "file_extension": ".py",
   "mimetype": "text/x-python",
   "name": "python",
   "nbconvert_exporter": "python",
   "pygments_lexer": "ipython3",
   "version": "3.10.13"
  }
 },
 "nbformat": 4,
 "nbformat_minor": 2
}
