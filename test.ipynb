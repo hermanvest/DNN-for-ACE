{
 "cells": [
  {
   "cell_type": "code",
   "execution_count": 1,
   "metadata": {},
   "outputs": [],
   "source": [
    "import numpy as np\n",
    "import tensorflow as tf"
   ]
  },
  {
   "cell_type": "code",
   "execution_count": 2,
   "metadata": {},
   "outputs": [],
   "source": [
    "def custom_sigmoid(x, upper_bound, epsilon=1e-10) -> tf.Tensor:\n",
    "    \"\"\"\n",
    "    Applies a modified sigmoid activation function to input tensor `x` that scales the output to be between `epsilon` and `upper_bound` minus `epsilon`. This function is useful for scenarios where the activation output needs to be constrained within a specific range, avoiding exact 0 and ensuring differentiability.\n",
    "\n",
    "    The modification involves scaling the traditional sigmoid output (which lies in the range (0, 1)) to ensure that the result is strictly greater than 0 and less than `upper_bound`, with a minimum value determined by `epsilon`.\n",
    "\n",
    "    Parameters:\n",
    "        x (tf.Tensor): The input tensor for which to compute the activation.\n",
    "        upper_bound (float): The upper limit for the activation function's output, ensuring that the output is strictly less than this value.\n",
    "        epsilon (float, optional): A small constant used to adjust the lower and upper limits of the sigmoid output to avoid the exact 0 and `upper_bound` values, ensuring numerical stability. Defaults to 1e-6.\n",
    "\n",
    "    Returns:\n",
    "        tf.Tensor: The scaled sigmoid activation of `x`, constrained to be within the range (`epsilon`, `upper_bound` - `epsilon`).\n",
    "\n",
    "    Example:\n",
    "        >>> x = tf.constant([0.0, -1.0, 1.0, 5.0])\n",
    "        >>> upper_bound = 5.0\n",
    "        >>> activated_x = custom_sigmoid(x, upper_bound)\n",
    "        >>> print(activated_x)\n",
    "    \"\"\"\n",
    "    return upper_bound * (epsilon + (1 - 2 * epsilon) * tf.sigmoid(x))"
   ]
  },
  {
   "cell_type": "code",
   "execution_count": 6,
   "metadata": {},
   "outputs": [
    {
     "data": {
      "text/plain": [
       "<tf.Tensor: shape=(), dtype=float32, numpy=1e-09>"
      ]
     },
     "execution_count": 6,
     "metadata": {},
     "output_type": "execute_result"
    }
   ],
   "source": [
    "x = tf.constant(-1000.0)\n",
    "ub = tf.constant(10.0)\n",
    "custom_sigmoid(x, ub)"
   ]
  },
  {
   "cell_type": "code",
   "execution_count": null,
   "metadata": {},
   "outputs": [],
   "source": []
  }
 ],
 "metadata": {
  "kernelspec": {
   "display_name": "thesis",
   "language": "python",
   "name": "python3"
  },
  "language_info": {
   "codemirror_mode": {
    "name": "ipython",
    "version": 3
   },
   "file_extension": ".py",
   "mimetype": "text/x-python",
   "name": "python",
   "nbconvert_exporter": "python",
   "pygments_lexer": "ipython3",
   "version": "3.10.13"
  }
 },
 "nbformat": 4,
 "nbformat_minor": 2
}
