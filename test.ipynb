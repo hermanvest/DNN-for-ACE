{
 "cells": [
  {
   "cell_type": "code",
   "execution_count": 2,
   "metadata": {},
   "outputs": [],
   "source": [
    "import numpy as np\n",
    "import tensorflow as tf"
   ]
  },
  {
   "cell_type": "code",
   "execution_count": 8,
   "metadata": {},
   "outputs": [
    {
     "name": "stdout",
     "output_type": "stream",
     "text": [
      "tf.Tensor(-1.0464231, shape=(), dtype=float32)\n"
     ]
    }
   ],
   "source": [
    "beta = 0.9  # This is your beta value\n",
    "Sigma = tf.constant([[0.5, 0.1], [0.1, 0.5]], dtype=tf.float32)  # This should be your Sigma matrix\n",
    "\n",
    "# Create a matrix of ones with the same shape as Sigma\n",
    "ones_matrix = tf.ones_like(Sigma)\n",
    "\n",
    "# Calculate the inverse of (ones_matrix - beta * Sigma)\n",
    "matrix_to_invert = ones_matrix - beta * Sigma\n",
    "inverse_matrix = tf.linalg.inv(matrix_to_invert)\n",
    "\n",
    "# Extract the element at the first row and first column\n",
    "result_element = inverse_matrix[0, 0]\n",
    "print(result_element)"
   ]
  },
  {
   "cell_type": "code",
   "execution_count": 9,
   "metadata": {},
   "outputs": [
    {
     "name": "stdout",
     "output_type": "stream",
     "text": [
      "tf.Tensor(-1.0464231, shape=(), dtype=float32)\n"
     ]
    }
   ],
   "source": [
    "beta = 0.9  # This is your beta value\n",
    "phi = tf.constant([[0.5, 0.1, 0.1], [0.5, 0.1, 0.1], [0.5, 0.1, 0.1]], dtype=tf.float32)  # This should be your Sigma matrix\n",
    "\n",
    "# Create a matrix of ones with the same shape as Sigma\n",
    "ones_matrix = tf.ones_like(Sigma)\n",
    "\n",
    "# Calculate the inverse of (ones_matrix - beta * Sigma)\n",
    "matrix_to_invert = ones_matrix - beta * Sigma\n",
    "inverse_matrix = tf.linalg.inv(matrix_to_invert)\n",
    "\n",
    "# Extract the element at the first row and first column\n",
    "result_element = inverse_matrix[0, 0]\n",
    "print(result_element)"
   ]
  },
  {
   "cell_type": "code",
   "execution_count": null,
   "metadata": {},
   "outputs": [],
   "source": []
  }
 ],
 "metadata": {
  "kernelspec": {
   "display_name": "thesis",
   "language": "python",
   "name": "python3"
  },
  "language_info": {
   "codemirror_mode": {
    "name": "ipython",
    "version": 3
   },
   "file_extension": ".py",
   "mimetype": "text/x-python",
   "name": "python",
   "nbconvert_exporter": "python",
   "pygments_lexer": "ipython3",
   "version": "3.10.13"
  }
 },
 "nbformat": 4,
 "nbformat_minor": 2
}
