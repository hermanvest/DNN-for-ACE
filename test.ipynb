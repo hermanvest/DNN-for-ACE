{
 "cells": [
  {
   "cell_type": "markdown",
   "metadata": {},
   "source": [
    "The things I need that I understand so far:\n",
    "* A Dense Neural Network. Can use the same architecture as the one used in other papers with DEQN's\n",
    "* Computing loss and applying the optimizer to the network\n",
    "* Setting up Tensorboard for tracking progress of the training process\n",
    "* Saving weights for continuing training later\n",
    "* Implement option to start training from a set of weights and to stop the training process\n",
    "\n",
    "The things I need that I don't understand so far:\n",
    "* The starting point for the simulation - I guess this has to be based off some initial values\n",
    "* What ground truth I can compare my results with\n"
   ]
  }
 ],
 "metadata": {
  "language_info": {
   "name": "python"
  }
 },
 "nbformat": 4,
 "nbformat_minor": 2
}
