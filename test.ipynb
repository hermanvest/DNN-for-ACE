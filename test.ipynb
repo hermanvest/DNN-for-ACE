{
 "cells": [
  {
   "cell_type": "code",
   "execution_count": 2,
   "metadata": {},
   "outputs": [],
   "source": [
    "import numpy as np\n",
    "import tensorflow as tf"
   ]
  },
  {
   "cell_type": "code",
   "execution_count": 4,
   "metadata": {},
   "outputs": [
    {
     "data": {
      "text/plain": [
       "<tf.Tensor: shape=(80,), dtype=float32, numpy=\n",
       "array([550.      , 536.25    , 522.8438  , 509.7727  , 497.02838 ,\n",
       "       484.6027  , 472.48764 , 460.67545 , 449.15857 , 437.92963 ,\n",
       "       426.98138 , 416.3069  , 405.8992  , 395.75174 , 385.85794 ,\n",
       "       376.21152 , 366.80624 , 357.6361  , 348.6952  , 339.9778  ,\n",
       "       331.47836 , 323.19144 , 315.11166 , 307.2339  , 299.553   ,\n",
       "       292.0642  , 284.7626  , 277.64355 , 270.70248 , 263.9349  ,\n",
       "       257.33655 , 250.90315 , 244.63057 , 238.51482 , 232.55196 ,\n",
       "       226.73816 , 221.06972 , 215.54297 , 210.1544  , 204.90054 ,\n",
       "       199.77803 , 194.7836  , 189.91402 , 185.16617 , 180.537   ,\n",
       "       176.02359 , 171.623   , 167.33244 , 163.14912 , 159.0704  ,\n",
       "       155.09364 , 151.21631 , 147.4359  , 143.75002 , 140.15625 ,\n",
       "       136.65236 , 133.23605 , 129.90517 , 126.65753 , 123.4911  ,\n",
       "       120.403824, 117.39373 , 114.458885, 111.59742 , 108.80749 ,\n",
       "       106.087296, 103.43512 , 100.84924 ,  98.32802 ,  95.86982 ,\n",
       "        93.473076,  91.136246,  88.85784 ,  86.6364  ,  84.4705  ,\n",
       "        82.358734,  80.29977 ,  78.292274,  76.33498 ,  74.4266  ],\n",
       "      dtype=float32)>"
      ]
     },
     "execution_count": 4,
     "metadata": {},
     "output_type": "execute_result"
    }
   ],
   "source": [
    "t_max = 80\n",
    "t_values = tf.range(1, t_max + 1, dtype=tf.float32)\n",
    "\n",
    "# Compute pbacktime(t) for each time period\n",
    "pbacktime = 550 * tf.pow((1 - 0.025), (t_values - 1))\n",
    "pbacktime"
   ]
  },
  {
   "cell_type": "code",
   "execution_count": null,
   "metadata": {},
   "outputs": [],
   "source": []
  }
 ],
 "metadata": {
  "kernelspec": {
   "display_name": "thesis",
   "language": "python",
   "name": "python3"
  },
  "language_info": {
   "codemirror_mode": {
    "name": "ipython",
    "version": 3
   },
   "file_extension": ".py",
   "mimetype": "text/x-python",
   "name": "python",
   "nbconvert_exporter": "python",
   "pygments_lexer": "ipython3",
   "version": "3.10.13"
  }
 },
 "nbformat": 4,
 "nbformat_minor": 2
}
