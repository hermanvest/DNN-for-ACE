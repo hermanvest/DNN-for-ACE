{
 "cells": [
  {
   "cell_type": "code",
   "execution_count": 1,
   "metadata": {},
   "outputs": [],
   "source": [
    "import numpy as np\n",
    "import tensorflow as tf"
   ]
  },
  {
   "cell_type": "code",
   "execution_count": 8,
   "metadata": {},
   "outputs": [
    {
     "name": "stdout",
     "output_type": "stream",
     "text": [
      "tf.Tensor(8.992533, shape=(), dtype=float32)\n"
     ]
    }
   ],
   "source": [
    "# Assuming TensorFlow 2.x\n",
    "# Define `eland0` and `deland` as constants\n",
    "eland0 = tf.constant(5.9, dtype=tf.float32)  # Example initial value\n",
    "deland = tf.constant(0.1, dtype=tf.float32)   # Example decay rate\n",
    "\n",
    "# Create a sequence of time steps from 1 to 81 (inclusive), representing 5 years per period\n",
    "# This means we'll generate values [1, 6, 11, ..., 396] representing the years in 5-year intervals\n",
    "t = tf.range(1, 82, dtype=tf.float32)\n",
    "\n",
    "# Compute `eland(t)` for each time step\n",
    "eland_t = eland0 * (1 - deland) ** (t - 5)  # Adjusting the exponent to start at 0 (1st period)\n",
    "\n",
    "# Print the result\n",
    "print(eland_t[0])"
   ]
  },
  {
   "cell_type": "code",
   "execution_count": null,
   "metadata": {},
   "outputs": [],
   "source": []
  }
 ],
 "metadata": {
  "kernelspec": {
   "display_name": "thesis",
   "language": "python",
   "name": "python3"
  },
  "language_info": {
   "codemirror_mode": {
    "name": "ipython",
    "version": 3
   },
   "file_extension": ".py",
   "mimetype": "text/x-python",
   "name": "python",
   "nbconvert_exporter": "python",
   "pygments_lexer": "ipython3",
   "version": "3.10.13"
  }
 },
 "nbformat": 4,
 "nbformat_minor": 2
}
